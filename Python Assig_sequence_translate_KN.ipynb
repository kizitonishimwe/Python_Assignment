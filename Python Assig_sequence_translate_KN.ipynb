{
 "cells": [
  {
   "cell_type": "code",
   "execution_count": null,
   "metadata": {},
   "outputs": [],
   "source": [
    "# The material used in the assignment are from https://stackoverflow.com/; based on internet users suggestions and collaboration with classmates with more python advanced knowledge. "
   ]
  },
  {
   "cell_type": "code",
   "execution_count": null,
   "metadata": {},
   "outputs": [],
   "source": [
    "# -- Functions -- # "
   ]
  },
  {
   "cell_type": "code",
   "execution_count": 70,
   "metadata": {},
   "outputs": [],
   "source": [
    "from Bio import SeqIO\n",
    "from Bio import Seq\n",
    "from Bio.Seq import Seq\n",
    "from Bio.Alphabet import IUPAC\n",
    "from Bio.Data import CodonTable\n",
    "import pandas as pd\n",
    "import matplotlib as plt\n",
    "from Bio.SeqUtils import molecular_weight\n",
    "from Bio.SeqUtils import GC\n",
    "from Bio.SeqUtils.ProtParam import ProteinAnalysis\n",
    "import urllib\n",
    "import urllib.request\n",
    "import matplotlib.pyplot as plt\n",
    "plt.style.use('ggplot')"
   ]
  },
  {
   "cell_type": "code",
   "execution_count": null,
   "metadata": {},
   "outputs": [],
   "source": [
    "## 1 ##\n",
    "## Dr. X: this gets sequences \n",
    "## Please finish documenting this function with comments, or in notebook markdown text\n",
    "## Your descriptions of all functions should contain information about what the function does,\n",
    "## as well as information about the return types and arguments."
   ]
  },
  {
   "cell_type": "code",
   "execution_count": 2,
   "metadata": {},
   "outputs": [],
   "source": [
    "def get_sequences_from_file(fasta_fn): # Define the get_sequences_from_file function with the fasta_fn file \n",
    "    sequence_data_dict = {}  # Create a dictionary named sequence_data_dict \n",
    "    for record in SeqIO.parse(fasta_fn, \"fasta\"): # format the fasta_fn file, and follow the instructions below \n",
    "        description = record.description.split() # Create the description function which describes AND splits at space record in the fasta_fn file AND \n",
    "        species_name = description[1] + \" \" + description[2] # create the species_name function: use the description function for the second column AND use the description function for the third column for fasta_fn separate by \"\". \n",
    "        sequence_data_dict[species_name] = record.seq # In the sequence_data_dict dictionary, return the specified species_name conditions with their sequences \n",
    "    return(sequence_data_dict) # Print the result for sequence_data_dict dictionary \n"
   ]
  },
  {
   "cell_type": "code",
   "execution_count": null,
   "metadata": {},
   "outputs": [],
   "source": [
    "## 2 ##\n",
    "####### YOUR STRING-TRANSLATE FUNCTION ########\n",
    "## Write a function that translates sequences\n",
    "## All sequences start at codon position 1\n",
    "## Complete a function that translates using a loop over the string of nucleotides\n",
    "## Here is  some pseudo-code and suggestions"
   ]
  },
  {
   "cell_type": "code",
   "execution_count": 71,
   "metadata": {},
   "outputs": [
    {
     "ename": "IndentationError",
     "evalue": "unexpected indent (<ipython-input-71-b1ce745e84e8>, line 6)",
     "output_type": "error",
     "traceback": [
      "\u001b[1;36m  File \u001b[1;32m\"<ipython-input-71-b1ce745e84e8>\"\u001b[1;36m, line \u001b[1;32m6\u001b[0m\n\u001b[1;33m    if codon == \"TAA\" or codon == \"TAG\" or codon == \"AGA\" or codon == \"AGG\":    #Identifies the stop codons\u001b[0m\n\u001b[1;37m    ^\u001b[0m\n\u001b[1;31mIndentationError\u001b[0m\u001b[1;31m:\u001b[0m unexpected indent\n"
     ]
    }
   ],
   "source": [
    "def translate_function (string_nucleotides): # define the function \"translate\"\n",
    "    mito_table = CodonTable.unambiguous_dna_by_name[\"Vertebrate Mitochondrial\"] #Define table with all codon to AA information \n",
    "    aa_seq_string = \"\" # Create new variable for AA sequence \n",
    "    for i in range (len(string_nucleotides), 3): #counts in three for codons starting with first nucleotide \n",
    "        codon=string_nucleotides[i]+string_nucleotides[i+1]+string_nucleotides[i+2] #Codon is 3 nucleotides which code for AA\n",
    "         if codon == \"TAA\" or codon == \"TAG\" or codon == \"AGA\" or codon == \"AGG\":    #Identifies the stop codons\n",
    "                break\n",
    "        else:                                                                       \n",
    "                aa_seq_string += codon_table.forward_table[codon] #Non stop codons are added to the list as AA \n",
    "    return (aa_seq_string) #complete AA sequence with stop codons excluded from analysis\n",
    "    "
   ]
  },
  {
   "cell_type": "code",
   "execution_count": 74,
   "metadata": {},
   "outputs": [
    {
     "name": "stdout",
     "output_type": "stream",
     "text": [
      "Table 2 Vertebrate Mitochondrial, SGC1\n",
      "\n",
      "  |  T      |  C      |  A      |  G      |\n",
      "--+---------+---------+---------+---------+--\n",
      "T | TTT F   | TCT S   | TAT Y   | TGT C   | T\n",
      "T | TTC F   | TCC S   | TAC Y   | TGC C   | C\n",
      "T | TTA L   | TCA S   | TAA Stop| TGA W   | A\n",
      "T | TTG L   | TCG S   | TAG Stop| TGG W   | G\n",
      "--+---------+---------+---------+---------+--\n",
      "C | CTT L   | CCT P   | CAT H   | CGT R   | T\n",
      "C | CTC L   | CCC P   | CAC H   | CGC R   | C\n",
      "C | CTA L   | CCA P   | CAA Q   | CGA R   | A\n",
      "C | CTG L   | CCG P   | CAG Q   | CGG R   | G\n",
      "--+---------+---------+---------+---------+--\n",
      "A | ATT I(s)| ACT T   | AAT N   | AGT S   | T\n",
      "A | ATC I(s)| ACC T   | AAC N   | AGC S   | C\n",
      "A | ATA M(s)| ACA T   | AAA K   | AGA Stop| A\n",
      "A | ATG M(s)| ACG T   | AAG K   | AGG Stop| G\n",
      "--+---------+---------+---------+---------+--\n",
      "G | GTT V   | GCT A   | GAT D   | GGT G   | T\n",
      "G | GTC V   | GCC A   | GAC D   | GGC G   | C\n",
      "G | GTA V   | GCA A   | GAA E   | GGA G   | A\n",
      "G | GTG V(s)| GCG A   | GAG E   | GGG G   | G\n",
      "--+---------+---------+---------+---------+--\n"
     ]
    }
   ],
   "source": [
    "codon_table = CodonTable.unambiguous_dna_by_name[\"Vertebrate Mitochondrial\"]\n",
    "print(codon_table)"
   ]
  },
  {
   "cell_type": "code",
   "execution_count": null,
   "metadata": {},
   "outputs": [],
   "source": [
    "## 3 ##\n",
    "####### YOUR ALTERNATIVE FUNCTION ########\n",
    "## Is there a better way to write the translation function? (Hint: yes there is.) \n",
    "## Perhaps using available BioPython library utilities?\n",
    "## Please also write this function."
   ]
  },
  {
   "cell_type": "code",
   "execution_count": null,
   "metadata": {},
   "outputs": [],
   "source": [
    "def translate_function (string_nucleotides): \n",
    "    sequence_translate ={}\n",
    "    for record in SeqIO.parse (string_nucleotides, \"fasta\"):\n",
    "        mito_table = CodonTable.unambiguous_dna_by_name[\"Vertebrate Mitochondrial\"]\n",
    "        sequence_translate = (mito_table[0].seq)\n",
    "        sequence_translate.translate()\n",
    "    print (sequence_translate(table=2, to_stop=True))"
   ]
  },
  {
   "cell_type": "code",
   "execution_count": null,
   "metadata": {},
   "outputs": [],
   "source": [
    "## 4 ##\n",
    "####### YOUR COUNT AA ANALYSIS FUNCTION ########\n",
    "## Write a function that calculates the molecular weight of each amino acid sequence.\n",
    "## For this, you can use some BioPython functions. I think you can use the ProtParam module.\n",
    "## For more info, check this out: http://biopython.org/wiki/ProtParam\n",
    "## So you should import the following before defining your function:"
   ]
  },
  {
   "cell_type": "code",
   "execution_count": 17,
   "metadata": {},
   "outputs": [],
   "source": [
    "from Bio.SeqUtils.ProtParam import ProteinAnalysis\n",
    "\n",
    "def compute_molecular_weight (aa_seq): \n",
    "    aa_seq1 =str(aa_seq)\n",
    "    aa_seq2= aa_seq1(table=2, to_stop=True)\n",
    "    analysed_seq = ProteinAnalysis (aa_seq2)\n",
    "    analysed_seq2 = analysed_seq.count_amino_acids () # count the number of amino acids \n",
    "    for i in range (analysed_seq2):\n",
    "        if x == analysed_seq2.molecular_weight: # analyse the molecular weight for each amino acids \n",
    "            print (x)"
   ]
  },
  {
   "cell_type": "code",
   "execution_count": null,
   "metadata": {},
   "outputs": [],
   "source": [
    "## 5 ##\n",
    "####### YOUR GC CONTENT ANALYSIS FUNCTION ########\n",
    "## Write a function that calculates the GC-content (proportion of \"G\" and \"C\") of each DNA sequence and returns this value."
   ]
  },
  {
   "cell_type": "code",
   "execution_count": 18,
   "metadata": {},
   "outputs": [],
   "source": [
    "def GC_content (DNA_sequence): \n",
    "    for record in SeqIO.parse (DNA_sequence,\"fasta\"): \n",
    "        GC = DNA_sequence.count (\"G\",\"C\")\n",
    "    return (GC)"
   ]
  },
  {
   "cell_type": "code",
   "execution_count": null,
   "metadata": {},
   "outputs": [],
   "source": [
    "#%%%%%%%%%%%%%%#\n",
    "###   MAIN   ###\n",
    "#%%%%%%%%%%%%%%#"
   ]
  },
  {
   "cell_type": "code",
   "execution_count": null,
   "metadata": {},
   "outputs": [],
   "source": [
    "## 6 ## \n",
    "## Add two new columns to the bears DataFrame: (1) molecular weight and (2) GC content.\n",
    "## Set the value to 'NaN' to indicate that these cells are currently empty."
   ]
  },
  {
   "cell_type": "code",
   "execution_count": 76,
   "metadata": {},
   "outputs": [],
   "source": [
    "cytb_seqs = get_sequences_from_file(\"bears_cytb.fasta\") \n",
    "bears_df = pd.read_csv(\"bears_mass.csv\") # Includes only data for body mass \n",
    "species_list = list(bears_df.species)\n",
    "bears_df\n",
    "\n",
    "import numpy as np\n",
    "idx = 2 \n",
    "new_col = (np.nan)\n",
    "bears_df.insert (loc=idx, column = 'Molecular weight', value = new_col)\n",
    "import numpy as np\n",
    "idx = 3 \n",
    "new_col1 = (np.nan)\n",
    "bears_df.insert (loc=idx, column = 'GC content', value = new_col1)"
   ]
  },
  {
   "cell_type": "code",
   "execution_count": 77,
   "metadata": {},
   "outputs": [
    {
     "name": "stdout",
     "output_type": "stream",
     "text": [
      "                  species     mass  Molecular weight  GC content\n",
      "0          Ursus spelaeus  550.800               NaN         NaN\n",
      "1            Ursus arctos  203.500               NaN         NaN\n",
      "2        Ursus thibetanus   99.714               NaN         NaN\n",
      "3        Melursus ursinus  100.030               NaN         NaN\n",
      "4        Ursus americanus  110.560               NaN         NaN\n",
      "5     Helarctos malayanus   47.020               NaN         NaN\n",
      "6  Ailuropoda melanoleuca  118.200               NaN         NaN\n",
      "7      Tremarctos ornatus  140.700               NaN         NaN\n",
      "8         Ursus maritimus  425.100               NaN         NaN\n"
     ]
    }
   ],
   "source": [
    "print (bears_df)"
   ]
  },
  {
   "cell_type": "code",
   "execution_count": null,
   "metadata": {},
   "outputs": [],
   "source": [
    "## 7 ##\n",
    "## Write a for-loop that translates each sequence and also gets molecular weight and computes the GC content\n",
    "## of each translated sequence and adds those data to DataFrame"
   ]
  },
  {
   "cell_type": "code",
   "execution_count": 78,
   "metadata": {},
   "outputs": [
    {
     "name": "stdout",
     "output_type": "stream",
     "text": [
      "348712.8596000003\n",
      "43.771929824561404\n",
      "348796.8787000003\n",
      "43.771929824561404\n",
      "348614.69580000016\n",
      "45.6140350877193\n",
      "348707.77940000035\n",
      "45.175438596491226\n",
      "348766.8559000003\n",
      "43.94736842105263\n",
      "348746.8344000003\n",
      "44.29824561403509\n",
      "349396.3278000006\n",
      "40.78947368421053\n",
      "349059.9576000006\n",
      "44.3859649122807\n",
      "348870.8776000003\n",
      "44.29824561403509\n"
     ]
    }
   ],
   "source": [
    "for bear in bears_df['species']:\n",
    "    bear_seq = cytb_seqs[bear]\n",
    "    print(molecular_weight(bear_seq))\n",
    "    print(GC(bear_seq))"
   ]
  },
  {
   "cell_type": "code",
   "execution_count": 92,
   "metadata": {},
   "outputs": [],
   "source": [
    "for row_num, row in bears_df.iterrows():\n",
    "    bear_seq = cytb_seqs[row['species']] \n",
    "    bears_df.loc[row_num, 'GC content'] = GC(bear_seq) \n",
    "    bears_df.loc[row_num, 'Molecular weight']= molecular_weight(bear_seq)"
   ]
  },
  {
   "cell_type": "code",
   "execution_count": 93,
   "metadata": {},
   "outputs": [
    {
     "data": {
      "text/html": [
       "<div>\n",
       "<style scoped>\n",
       "    .dataframe tbody tr th:only-of-type {\n",
       "        vertical-align: middle;\n",
       "    }\n",
       "\n",
       "    .dataframe tbody tr th {\n",
       "        vertical-align: top;\n",
       "    }\n",
       "\n",
       "    .dataframe thead th {\n",
       "        text-align: right;\n",
       "    }\n",
       "</style>\n",
       "<table border=\"1\" class=\"dataframe\">\n",
       "  <thead>\n",
       "    <tr style=\"text-align: right;\">\n",
       "      <th></th>\n",
       "      <th>species</th>\n",
       "      <th>mass</th>\n",
       "      <th>Molecular weight</th>\n",
       "      <th>GC content</th>\n",
       "      <th>Molecular Weight</th>\n",
       "    </tr>\n",
       "  </thead>\n",
       "  <tbody>\n",
       "    <tr>\n",
       "      <th>0</th>\n",
       "      <td>Ursus spelaeus</td>\n",
       "      <td>550.800</td>\n",
       "      <td>348712.8596</td>\n",
       "      <td>43.771930</td>\n",
       "      <td>348712.8596</td>\n",
       "    </tr>\n",
       "    <tr>\n",
       "      <th>1</th>\n",
       "      <td>Ursus arctos</td>\n",
       "      <td>203.500</td>\n",
       "      <td>348796.8787</td>\n",
       "      <td>43.771930</td>\n",
       "      <td>348796.8787</td>\n",
       "    </tr>\n",
       "    <tr>\n",
       "      <th>2</th>\n",
       "      <td>Ursus thibetanus</td>\n",
       "      <td>99.714</td>\n",
       "      <td>348614.6958</td>\n",
       "      <td>45.614035</td>\n",
       "      <td>348614.6958</td>\n",
       "    </tr>\n",
       "    <tr>\n",
       "      <th>3</th>\n",
       "      <td>Melursus ursinus</td>\n",
       "      <td>100.030</td>\n",
       "      <td>348707.7794</td>\n",
       "      <td>45.175439</td>\n",
       "      <td>348707.7794</td>\n",
       "    </tr>\n",
       "    <tr>\n",
       "      <th>4</th>\n",
       "      <td>Ursus americanus</td>\n",
       "      <td>110.560</td>\n",
       "      <td>348766.8559</td>\n",
       "      <td>43.947368</td>\n",
       "      <td>348766.8559</td>\n",
       "    </tr>\n",
       "    <tr>\n",
       "      <th>5</th>\n",
       "      <td>Helarctos malayanus</td>\n",
       "      <td>47.020</td>\n",
       "      <td>348746.8344</td>\n",
       "      <td>44.298246</td>\n",
       "      <td>348746.8344</td>\n",
       "    </tr>\n",
       "    <tr>\n",
       "      <th>6</th>\n",
       "      <td>Ailuropoda melanoleuca</td>\n",
       "      <td>118.200</td>\n",
       "      <td>349396.3278</td>\n",
       "      <td>40.789474</td>\n",
       "      <td>349396.3278</td>\n",
       "    </tr>\n",
       "    <tr>\n",
       "      <th>7</th>\n",
       "      <td>Tremarctos ornatus</td>\n",
       "      <td>140.700</td>\n",
       "      <td>349059.9576</td>\n",
       "      <td>44.385965</td>\n",
       "      <td>349059.9576</td>\n",
       "    </tr>\n",
       "    <tr>\n",
       "      <th>8</th>\n",
       "      <td>Ursus maritimus</td>\n",
       "      <td>425.100</td>\n",
       "      <td>348870.8776</td>\n",
       "      <td>44.298246</td>\n",
       "      <td>348870.8776</td>\n",
       "    </tr>\n",
       "  </tbody>\n",
       "</table>\n",
       "</div>"
      ],
      "text/plain": [
       "                  species     mass  Molecular weight  GC content  \\\n",
       "0          Ursus spelaeus  550.800       348712.8596   43.771930   \n",
       "1            Ursus arctos  203.500       348796.8787   43.771930   \n",
       "2        Ursus thibetanus   99.714       348614.6958   45.614035   \n",
       "3        Melursus ursinus  100.030       348707.7794   45.175439   \n",
       "4        Ursus americanus  110.560       348766.8559   43.947368   \n",
       "5     Helarctos malayanus   47.020       348746.8344   44.298246   \n",
       "6  Ailuropoda melanoleuca  118.200       349396.3278   40.789474   \n",
       "7      Tremarctos ornatus  140.700       349059.9576   44.385965   \n",
       "8         Ursus maritimus  425.100       348870.8776   44.298246   \n",
       "\n",
       "   Molecular Weight  \n",
       "0       348712.8596  \n",
       "1       348796.8787  \n",
       "2       348614.6958  \n",
       "3       348707.7794  \n",
       "4       348766.8559  \n",
       "5       348746.8344  \n",
       "6       349396.3278  \n",
       "7       349059.9576  \n",
       "8       348870.8776  "
      ]
     },
     "execution_count": 93,
     "metadata": {},
     "output_type": "execute_result"
    }
   ],
   "source": [
    "bears_df"
   ]
  },
  {
   "cell_type": "code",
   "execution_count": null,
   "metadata": {},
   "outputs": [],
   "source": [
    "## 8 ##\n",
    "## Plot a bar-chart of the mass with the x-axes labeled with species names."
   ]
  },
  {
   "cell_type": "code",
   "execution_count": 86,
   "metadata": {},
   "outputs": [
    {
     "data": {
      "image/png": "[encoded data removed]",
      "text/plain": [
       "<Figure size 432x288 with 1 Axes>"
      ]
     },
     "metadata": {},
     "output_type": "display_data"
    }
   ],
   "source": [
    "axes = bears_df.plot.bar(x='species', y='mass')"
   ]
  },
  {
   "cell_type": "code",
   "execution_count": 95,
   "metadata": {},
   "outputs": [
    {
     "data": {
      "text/plain": [
       "<matplotlib.axes._subplots.AxesSubplot at 0x1c474142860>"
      ]
     },
     "execution_count": 95,
     "metadata": {},
     "output_type": "execute_result"
    },
    {
     "data": {
      "image/png": "[encoded data removed]",
      "text/plain": [
       "<Figure size 432x288 with 1 Axes>"
      ]
     },
     "metadata": {},
     "output_type": "display_data"
    }
   ],
   "source": [
    "bears_df.plot.bar(x='GC content', y='mass')"
   ]
  },
  {
   "cell_type": "code",
   "execution_count": null,
   "metadata": {},
   "outputs": [],
   "source": [
    "## *Q1* What is the largest bear species? \n",
    "## The largest bear is \"Ursus spelaeus\"\n",
    "## *Q2* What else is interesting about this species?\n",
    "## The smallest molecular weight "
   ]
  },
  {
   "cell_type": "code",
   "execution_count": null,
   "metadata": {},
   "outputs": [],
   "source": [
    "## 9 ##\n",
    "## Plot a visualization of the molecular weight (y-axis) as a function of GC-content (x-axis)."
   ]
  },
  {
   "cell_type": "code",
   "execution_count": 102,
   "metadata": {},
   "outputs": [
    {
     "data": {
      "text/plain": [
       "Text(0, 0.5, 'Molecular Weight')"
      ]
     },
     "execution_count": 102,
     "metadata": {},
     "output_type": "execute_result"
    },
    {
     "data": {
      "image/png": "[encoded data removed]",
      "text/plain": [
       "<Figure size 432x288 with 1 Axes>"
      ]
     },
     "metadata": {},
     "output_type": "display_data"
    }
   ],
   "source": [
    "fig, ax =plt.subplots()     \n",
    "my_scatter_plot =ax.scatter(\n",
    "bears_df[\"GC content\"],     \n",
    "bears_df[\"Molecular Weight\"]    \n",
    ")\n",
    "\n",
    "plt.title('GC vs MW')\n",
    "plt.xlabel('GC Content')\n",
    "plt.ylabel('Molecular Weight')"
   ]
  },
  {
   "cell_type": "code",
   "execution_count": null,
   "metadata": {},
   "outputs": [],
   "source": []
  }
 ],
 "metadata": {
  "kernelspec": {
   "display_name": "Python 3",
   "language": "python",
   "name": "python3"
  },
  "language_info": {
   "codemirror_mode": {
    "name": "ipython",
    "version": 3
   },
   "file_extension": ".py",
   "mimetype": "text/x-python",
   "name": "python",
   "nbconvert_exporter": "python",
   "pygments_lexer": "ipython3",
   "version": "3.7.1"
  }
 },
 "nbformat": 4,
 "nbformat_minor": 2
}
